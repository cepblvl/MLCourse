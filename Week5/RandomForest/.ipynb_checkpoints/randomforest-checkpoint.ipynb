{
 "cells": [
  {
   "cell_type": "code",
   "execution_count": 16,
   "metadata": {},
   "outputs": [],
   "source": [
    "import numpy as np\n",
    "import pandas as pd\n",
    "data = pd.read_csv('abalone.csv')\n",
    "#data = data.iloc[:,1:]\n",
    "#data=np.array(data)\n",
    "data['Sex'] = data['Sex'].map(lambda x: 1 if x == 'M' else (-1 if x == 'F' else 0))\n",
    "X_train=data.iloc[:,:8]\n",
    "y_train=data.iloc[:,8:]"
   ]
  },
  {
   "cell_type": "code",
   "execution_count": 19,
   "metadata": {
    "pycharm": {
     "name": "#%%\n"
    }
   },
   "outputs": [],
   "source": [
    "from sklearn.ensemble import RandomForestRegressor\n",
    "from sklearn.model_selection import *\n",
    "from sklearn.metrics import r2_score\n",
    "kf=KFold(n_splits=5,shuffle=True,random_state=1)\n",
    "kacc = []\n",
    "\n",
    "for k in range(1,51):\n",
    "    rf=RandomForestRegressor(n_estimators=k,random_state=1)\n",
    "    #neigh = KNeighborsRegressor(n_neighbors=5,weights='distance',metric='minkowski', p=k)\n",
    "    rf.fit(np.array(X_train.values), np.ravel(np.array(y_train.values)))\n",
    "    acc = cross_val_score(estimator=rf, X=np.array(X_train.values), y=np.ravel(np.array(y_train.values)), cv=kf, scoring='r2') \n",
    "    kacc.append(acc.mean()) "
   ]
  },
  {
   "cell_type": "code",
   "execution_count": 30,
   "metadata": {},
   "outputs": [
    {
     "data": {
      "text/plain": [
       "[0.11,\n",
       " 0.34,\n",
       " 0.41,\n",
       " 0.44,\n",
       " 0.47,\n",
       " 0.47,\n",
       " 0.48,\n",
       " 0.48,\n",
       " 0.49,\n",
       " 0.5,\n",
       " 0.49,\n",
       " 0.5,\n",
       " 0.5,\n",
       " 0.51,\n",
       " 0.51,\n",
       " 0.51,\n",
       " 0.51,\n",
       " 0.52,\n",
       " 0.52,\n",
       " 0.52,\n",
       " 0.52,\n",
       " 0.52,\n",
       " 0.52,\n",
       " 0.52,\n",
       " 0.52,\n",
       " 0.52,\n",
       " 0.52,\n",
       " 0.53,\n",
       " 0.53,\n",
       " 0.53,\n",
       " 0.53,\n",
       " 0.53,\n",
       " 0.53,\n",
       " 0.53,\n",
       " 0.53,\n",
       " 0.53,\n",
       " 0.53,\n",
       " 0.53,\n",
       " 0.53,\n",
       " 0.53,\n",
       " 0.53,\n",
       " 0.53,\n",
       " 0.53,\n",
       " 0.53,\n",
       " 0.53,\n",
       " 0.53,\n",
       " 0.53,\n",
       " 0.53,\n",
       " 0.53,\n",
       " 0.53]"
      ]
     },
     "execution_count": 30,
     "metadata": {},
     "output_type": "execute_result"
    }
   ],
   "source": [
    "kacc=list(map(lambda x : round(x,2),kacc))\n",
    "count=0\n",
    "for i in kacc:\n",
    "    count+=1\n",
    "    if i>=0.52:\n",
    "        break\n",
    "\n"
   ]
  },
  {
   "cell_type": "code",
   "execution_count": null,
   "metadata": {},
   "outputs": [],
   "source": []
  }
 ],
 "metadata": {
  "kernelspec": {
   "display_name": "Python 3",
   "language": "python",
   "name": "python3"
  },
  "language_info": {
   "codemirror_mode": {
    "name": "ipython",
    "version": 3
   },
   "file_extension": ".py",
   "mimetype": "text/x-python",
   "name": "python",
   "nbconvert_exporter": "python",
   "pygments_lexer": "ipython3",
   "version": "3.7.3"
  },
  "pycharm": {
   "stem_cell": {
    "cell_type": "raw",
    "metadata": {
     "collapsed": false
    },
    "source": []
   }
  }
 },
 "nbformat": 4,
 "nbformat_minor": 1
}
