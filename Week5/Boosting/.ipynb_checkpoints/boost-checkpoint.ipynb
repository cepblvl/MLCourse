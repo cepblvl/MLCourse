{
 "cells": [
  {
   "cell_type": "code",
   "execution_count": 3,
   "metadata": {
    "pycharm": {
     "is_executing": false
    }
   },
   "outputs": [],
   "source": [
    "import numpy as np\n",
    "import pandas as pd\n",
    "from sklearn.model_selection import train_test_split\n",
    "data = pd.read_csv('gbm-data.csv')\n",
    "y=data.iloc[:,:1]\n",
    "X=data.iloc[:,1:]\n",
    "y=np.array(y.values)\n",
    "X=np.array(X.values)\n",
    "X_train, X_test, y_train, y_test = train_test_split(X, y, test_size=0.8, random_state=241)"
   ]
  },
  {
   "cell_type": "code",
   "execution_count": 8,
   "metadata": {
    "pycharm": {
     "name": "#%%\n"
    }
   },
   "outputs": [
    {
     "name": "stderr",
     "output_type": "stream",
     "text": [
      "c:\\program files\\python37\\lib\\site-packages\\sklearn\\ensemble\\gradient_boosting.py:1450: DataConversionWarning: A column-vector y was passed when a 1d array was expected. Please change the shape of y to (n_samples, ), for example using ravel().\n",
      "  y = column_or_1d(y, warn=True)\n"
     ]
    },
    {
     "name": "stdout",
     "output_type": "stream",
     "text": [
      "      Iter       Train Loss   Remaining Time \n",
      "         1           1.0190           10.93s\n",
      "         2           0.9192           11.01s\n",
      "         3           0.8272           10.02s\n",
      "         4           0.7834            9.26s\n",
      "         5           0.7109            9.23s\n",
      "         6           0.6368            9.65s\n",
      "         7           0.5797            9.49s\n",
      "         8           0.5610            8.99s\n",
      "         9           0.5185            8.73s\n",
      "        10           0.4984            8.40s\n",
      "        20           0.1999            8.15s\n",
      "        30           0.1313            7.27s\n",
      "        40           0.0790            6.92s\n",
      "        50           0.0511            6.46s\n",
      "        60           0.0352            6.09s\n",
      "        70           0.0245            5.66s\n",
      "        80           0.0162            5.42s\n",
      "        90           0.0114            5.05s\n",
      "       100           0.0077            4.71s\n",
      "       200           0.0004            1.37s\n"
     ]
    },
    {
     "name": "stderr",
     "output_type": "stream",
     "text": [
      "c:\\program files\\python37\\lib\\site-packages\\sklearn\\ensemble\\gradient_boosting.py:1450: DataConversionWarning: A column-vector y was passed when a 1d array was expected. Please change the shape of y to (n_samples, ), for example using ravel().\n",
      "  y = column_or_1d(y, warn=True)\n"
     ]
    },
    {
     "name": "stdout",
     "output_type": "stream",
     "text": [
      "      Iter       Train Loss   Remaining Time \n",
      "         1           1.1255           10.64s\n",
      "         2           1.0035           10.50s\n",
      "         3           0.9386           10.34s\n",
      "         4           0.8844            9.51s\n",
      "         5           0.8381            9.64s\n",
      "         6           0.7995            9.43s\n",
      "         7           0.7559            9.13s\n",
      "         8           0.7205            8.89s\n",
      "         9           0.6958            8.72s\n",
      "        10           0.6725            8.54s\n",
      "        20           0.4672            7.53s\n",
      "        30           0.3179            7.51s\n",
      "        40           0.2274            7.09s\n",
      "        50           0.1774            6.62s\n",
      "        60           0.1394            6.25s\n",
      "        70           0.1050            5.95s\n",
      "        80           0.0805            5.59s\n",
      "        90           0.0650            5.20s\n",
      "       100           0.0511            4.90s\n",
      "       200           0.0058            1.57s\n"
     ]
    },
    {
     "data": {
      "image/png": "[encoded data removed]",
      "text/plain": [
       "<Figure size 432x288 with 1 Axes>"
      ]
     },
     "metadata": {
      "needs_background": "light"
     },
     "output_type": "display_data"
    }
   ],
   "source": [
    "from sklearn.ensemble import GradientBoostingClassifier\n",
    "from sklearn.metrics import log_loss\n",
    "import matplotlib.pyplot as plt\n",
    "#clf = GradientBoostingClassifier(n_estimators=250,verbose=True,random_state=241)\n",
    "for k in [1, 0.5, 0.3, 0.2, 0.1]:\n",
    "    clf = GradientBoostingClassifier(n_estimators=250,verbose=True,random_state=241,learning_rate=k)\n",
    "    clf.fit(X_train,y_train)\n",
    "    test_loss=[]\n",
    "    train_loss=[]\n",
    "    for i, y_pred_train in enumerate(clf.staged_decision_function(X_train)):\n",
    "        score_train=1/(1+np.exp(-y_pred_train))\n",
    "        loss_train=log_loss(y_true=y_train,y_pred=score_train)\n",
    "        train_loss.append(loss_train)\n",
    "    for i, y_pred_test in enumerate(clf.staged_decision_function(X_test)):\n",
    "        score_test=1/(1+np.exp(-y_pred_test))\n",
    "        loss_test=log_loss(y_true=y_test,y_pred=score_test)\n",
    "        test_loss.append(loss_test)\n",
    "    %matplotlib inline\n",
    "    plt.figure()\n",
    "    plt.plot(test_loss, 'r', linewidth=2)\n",
    "    plt.plot(train_loss, 'g', linewidth=2)\n",
    "    plt.legend(['test', 'train'])"
   ]
  },
  {
   "cell_type": "code",
   "execution_count": null,
   "metadata": {
    "pycharm": {
     "name": "#%%\n"
    }
   },
   "outputs": [],
   "source": [
    "\n",
    "\n"
   ]
  }
 ],
 "metadata": {
  "kernelspec": {
   "display_name": "Python 3",
   "language": "python",
   "name": "python3"
  },
  "language_info": {
   "codemirror_mode": {
    "name": "ipython",
    "version": 3
   },
   "file_extension": ".py",
   "mimetype": "text/x-python",
   "name": "python",
   "nbconvert_exporter": "python",
   "pygments_lexer": "ipython3",
   "version": "3.7.3"
  },
  "pycharm": {
   "stem_cell": {
    "cell_type": "raw",
    "metadata": {
     "collapsed": false
    },
    "source": []
   }
  }
 },
 "nbformat": 4,
 "nbformat_minor": 1
}
