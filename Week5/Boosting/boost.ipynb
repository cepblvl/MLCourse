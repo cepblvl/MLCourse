{
 "cells": [
  {
   "cell_type": "code",
   "execution_count": 9,
   "metadata": {
    "pycharm": {
     "is_executing": false
    }
   },
   "outputs": [],
   "source": [
    "import numpy as np\n",
    "import pandas as pd\n",
    "from sklearn.model_selection import train_test_split\n",
    "data = pd.read_csv('gbm-data.csv')\n",
    "y=data.iloc[:,:1]\n",
    "X=data.iloc[:,1:]\n",
    "y=np.array(y.values)\n",
    "X=np.array(X.values)\n",
    "X_train, X_test, y_train, y_test = train_test_split(X, y, test_size=0.8, random_state=241)"
   ]
  },
  {
   "cell_type": "code",
   "execution_count": 14,
   "metadata": {
    "pycharm": {
     "name": "#%%\n",
     "is_executing": false
    }
   },
   "outputs": [
    {
     "name": "stderr",
     "text": [
      "c:\\program files\\python37\\lib\\site-packages\\sklearn\\ensemble\\gradient_boosting.py:1450: DataConversionWarning: A column-vector y was passed when a 1d array was expected. Please change the shape of y to (n_samples, ), for example using ravel().\n  y = column_or_1d(y, warn=True)\n",
      "c:\\program files\\python37\\lib\\site-packages\\sklearn\\ensemble\\gradient_boosting.py:1450: DataConversionWarning: A column-vector y was passed when a 1d array was expected. Please change the shape of y to (n_samples, ), for example using ravel().\n  y = column_or_1d(y, warn=True)\n",
      "c:\\program files\\python37\\lib\\site-packages\\sklearn\\ensemble\\gradient_boosting.py:1450: DataConversionWarning: A column-vector y was passed when a 1d array was expected. Please change the shape of y to (n_samples, ), for example using ravel().\n  y = column_or_1d(y, warn=True)\n",
      "c:\\program files\\python37\\lib\\site-packages\\sklearn\\ensemble\\gradient_boosting.py:1450: DataConversionWarning: A column-vector y was passed when a 1d array was expected. Please change the shape of y to (n_samples, ), for example using ravel().\n  y = column_or_1d(y, warn=True)\n",
      "c:\\program files\\python37\\lib\\site-packages\\sklearn\\ensemble\\gradient_boosting.py:1450: DataConversionWarning: A column-vector y was passed when a 1d array was expected. Please change the shape of y to (n_samples, ), for example using ravel().\n  y = column_or_1d(y, warn=True)\n"
     ],
     "output_type": "stream"
    },
    {
     "name": "stdout",
     "text": [
      "      Iter       Train Loss   Remaining Time \n         1           1.0190           11.43s\n         2           0.9192           11.01s\n         3           0.8272            9.94s\n         4           0.7834            9.20s\n         5           0.7109            9.26s\n",
      "         6           0.6368           11.42s\n         7           0.5797           11.27s\n         8           0.5610           11.90s\n         9           0.5185           11.90s\n        10           0.4984           11.45s\n",
      "        20           0.1999           10.39s\n",
      "        30           0.1313            9.65s\n",
      "        40           0.0790            9.03s\n",
      "        50           0.0511            8.59s\n",
      "        60           0.0352            8.52s\n",
      "        70           0.0245            7.91s\n",
      "        80           0.0162            7.44s\n",
      "        90           0.0114            6.94s\n",
      "       100           0.0077            6.42s\n",
      "       200           0.0004            1.73s\n",
      "      Iter       Train Loss   Remaining Time \n         1           1.1255           10.96s\n         2           1.0035           11.77s\n         3           0.9386           14.35s\n",
      "         4           0.8844           13.78s\n         5           0.8381           13.28s\n         6           0.7995           12.24s\n         7           0.7559           11.52s\n         8           0.7205           11.04s\n         9           0.6958           10.62s\n",
      "        10           0.6725           10.33s\n",
      "        20           0.4672            9.80s\n",
      "        30           0.3179            9.33s\n",
      "        40           0.2274            8.85s\n",
      "        50           0.1774            8.31s\n",
      "        60           0.1394            7.84s\n",
      "        70           0.1050            7.63s\n",
      "        80           0.0805            7.17s\n",
      "        90           0.0650            6.70s\n",
      "       100           0.0511            6.35s\n",
      "       200           0.0058            1.89s\n",
      "      Iter       Train Loss   Remaining Time \n         1           1.2095           10.68s\n         2           1.1006           10.63s\n         3           1.0240           10.51s\n         4           0.9729           10.49s\n",
      "         5           0.9387           10.61s\n         6           0.8948           11.32s\n         7           0.8621           11.01s\n         8           0.8360           10.77s\n         9           0.8171           10.55s\n",
      "        10           0.7883           10.80s\n",
      "        20           0.6164           10.50s\n",
      "        30           0.4933           10.26s\n",
      "        40           0.4248            9.68s\n",
      "        50           0.3345            9.25s\n",
      "        60           0.2760            8.66s\n",
      "        70           0.2263            8.14s\n",
      "        80           0.1971            7.55s\n",
      "        90           0.1693            7.02s\n",
      "       100           0.1388            6.53s\n",
      "       200           0.0294            1.95s\n",
      "      Iter       Train Loss   Remaining Time \n         1           1.2613           10.93s\n         2           1.1715           10.89s\n         3           1.1009           10.72s\n         4           1.0529           10.83s\n",
      "         5           1.0130           11.17s\n         6           0.9740           11.10s\n         7           0.9475           10.43s\n         8           0.9197           10.41s\n         9           0.8979           10.02s\n        10           0.8730           10.03s\n",
      "        20           0.7207            9.73s\n",
      "        30           0.6055            9.13s\n",
      "        40           0.5244            8.27s\n",
      "        50           0.4501            7.74s\n",
      "        60           0.3908            7.22s\n",
      "        70           0.3372            6.78s\n",
      "        80           0.3009            6.34s\n",
      "        90           0.2603            5.97s\n",
      "       100           0.2327            5.59s\n",
      "       200           0.0835            1.82s\n",
      "      Iter       Train Loss   Remaining Time \n         1           1.3199           16.54s\n         2           1.2645           13.80s\n         3           1.2170           12.78s\n",
      "         4           1.1775           13.35s\n         5           1.1404           13.13s\n         6           1.1106           13.50s\n         7           1.0844           13.22s\n",
      "         8           1.0617           12.85s\n         9           1.0411           12.92s\n        10           1.0223           12.61s\n",
      "        20           0.8864           11.30s\n",
      "        30           0.7844            9.87s\n",
      "        40           0.7176            9.25s\n",
      "        50           0.6590            8.82s\n",
      "        60           0.6120            8.23s\n",
      "        70           0.5599            7.75s\n",
      "        80           0.5242            7.11s\n",
      "        90           0.4829            6.55s\n",
      "       100           0.4473            6.04s\n",
      "       200           0.2379            1.86s\n"
     ],
     "output_type": "stream"
    },
    {
     "data": {
      "text/plain": "<Figure size 432x288 with 5 Axes>",
      "image/png": "[encoded data removed]"
     },
     "metadata": {
      "needs_background": "light"
     },
     "output_type": "display_data"
    }
   ],
   "source": [
    "from sklearn.ensemble import GradientBoostingClassifier\n",
    "from sklearn.metrics import log_loss\n",
    "import matplotlib.pyplot as plt\n",
    "#clf = GradientBoostingClassifier(n_estimators=250,verbose=True,random_state=241)\n",
    "%matplotlib inline\n",
    "\n",
    "plt.figure()\n",
    "kk=0\n",
    "for k in [1, 0.5, 0.3, 0.2, 0.1]:\n",
    "    kk+=1\n",
    "    clf = GradientBoostingClassifier(n_estimators=250,verbose=True,random_state=241,learning_rate=k)\n",
    "    clf.fit(X_train,y_train)\n",
    "    test_loss=[]\n",
    "    train_loss=[]\n",
    "    for i, y_pred_train in enumerate(clf.staged_decision_function(X_train)):\n",
    "        score_train=1/(1+np.exp(-y_pred_train))\n",
    "        loss_train=log_loss(y_true=y_train,y_pred=score_train)\n",
    "        train_loss.append(loss_train)\n",
    "    for i, y_pred_test in enumerate(clf.staged_decision_function(X_test)):\n",
    "        score_test=1/(1+np.exp(-y_pred_test))\n",
    "        loss_test=log_loss(y_true=y_test,y_pred=score_test)\n",
    "        test_loss.append(loss_test)\n",
    "    plt.subplot(3,2,kk)\n",
    "    plt.plot(test_loss, 'r', linewidth=2)\n",
    "    plt.plot(train_loss, 'g', linewidth=2)\n",
    "    plt.legend(['test', 'train'])\n",
    "    if k==0.2:\n",
    "        min_log_loss=min(test_loss)\n",
    "        min_log_loss_iter=test_loss.index(min_log_loss)"
   ]
  },
  {
   "cell_type": "code",
   "execution_count": 12,
   "metadata": {
    "pycharm": {
     "name": "#%%\n",
     "is_executing": false
    }
   },
   "outputs": [],
   "source": [
    "f1 = open('1.txt', 'w')\n",
    "f1.write('overfitting')\n",
    "f1.close()\n",
    "\n",
    "\n"
   ]
  },
  {
   "cell_type": "code",
   "execution_count": 15,
   "outputs": [],
   "source": [
    "f2 = open('2.txt', 'w')\n",
    "f2.write(str(round(min_log_loss,2))+' '+str(min_log_loss_iter))\n",
    "f2.close()"
   ],
   "metadata": {
    "collapsed": false,
    "pycharm": {
     "name": "#%%\n",
     "is_executing": false
    }
   }
  },
  {
   "cell_type": "code",
   "execution_count": 16,
   "outputs": [
    {
     "name": "stderr",
     "text": [
      "c:\\program files\\python37\\lib\\site-packages\\ipykernel_launcher.py:3: DataConversionWarning: A column-vector y was passed when a 1d array was expected. Please change the shape of y to (n_samples,), for example using ravel().\n  This is separate from the ipykernel package so we can avoid doing imports until\n"
     ],
     "output_type": "stream"
    }
   ],
   "source": [
    "from sklearn.ensemble import RandomForestClassifier\n",
    "rf=RandomForestClassifier(n_estimators=min_log_loss_iter,random_state=241)\n",
    "rf.fit(X_train,y_train)\n",
    "rf_loss=log_loss(y_test,rf.predict_proba(X_test))"
   ],
   "metadata": {
    "collapsed": false,
    "pycharm": {
     "name": "#%%\n",
     "is_executing": false
    }
   }
  },
  {
   "cell_type": "code",
   "execution_count": 17,
   "outputs": [],
   "source": [
    "f3 = open('3.txt', 'w')\n",
    "f3.write(str(round(rf_loss,2)))\n",
    "f3.close()\n",
    "\n"
   ],
   "metadata": {
    "collapsed": false,
    "pycharm": {
     "name": "#%%\n",
     "is_executing": false
    }
   }
  }
 ],
 "metadata": {
  "kernelspec": {
   "display_name": "Python 3",
   "language": "python",
   "name": "python3"
  },
  "language_info": {
   "codemirror_mode": {
    "name": "ipython",
    "version": 3
   },
   "file_extension": ".py",
   "mimetype": "text/x-python",
   "name": "python",
   "nbconvert_exporter": "python",
   "pygments_lexer": "ipython3",
   "version": "3.7.3"
  },
  "pycharm": {
   "stem_cell": {
    "cell_type": "raw",
    "source": [],
    "metadata": {
     "collapsed": false
    }
   }
  }
 },
 "nbformat": 4,
 "nbformat_minor": 1
}