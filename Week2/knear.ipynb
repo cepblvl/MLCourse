{
 "cells": [
  {
   "cell_type": "code",
   "execution_count": 49,
   "metadata": {
    "pycharm": {
     "is_executing": false
    }
   },
   "outputs": [
    {
     "data": {
      "text/plain": "0      1\n1      1\n2      1\n3      1\n4      1\n      ..\n173    3\n174    3\n175    3\n176    3\n177    3\nName: 0, Length: 178, dtype: int64"
     },
     "metadata": {},
     "output_type": "execute_result",
     "execution_count": 49
    }
   ],
   "source": [
    "import pandas\n",
    "data = pandas.read_csv('wine.data', header=None)\n",
    "X = data.iloc[:,1:] \n",
    "#X['Sex'] = X['Sex'].map(lambda sex: 1 if sex == 'male' else 0)\n",
    "y = data.iloc[:,0] \n",
    "#X = X.dropna()\n",
    "#y = y[X.index.values]\n",
    "y"
   ]
  },
  {
   "cell_type": "code",
   "execution_count": 46,
   "metadata": {
    "pycharm": {
     "is_executing": false
    }
   },
   "outputs": [],
   "source": [
    "import numpy as np\n",
    "from sklearn.model_selection import *\n",
    "from sklearn.neighbors import KNeighborsClassifier\n",
    "kf=KFold(n_splits=5,shuffle=True,random_state=42)\n",
    "kacc = []\n",
    "for k in range(1, 51):\n",
    "    kn = KNeighborsClassifier(n_neighbors=k)\n",
    "    kn.fit(np.array(X.values), np.array(y.values))\n",
    "    acc = cross_val_score(estimator=kn, X=np.array(X.values), y=np.array(y.values), cv=kf, scoring='accuracy') \n",
    "    kacc.append(acc.mean()) \n"
   ]
  },
  {
   "cell_type": "code",
   "execution_count": 47,
   "outputs": [],
   "source": [
    "f1 = open('1.txt', 'w')\n",
    "f1.write(str(kacc.index(max(kacc))+1))\n",
    "f1.close()\n",
    "f2 = open('2.txt', 'w')\n",
    "f2.write(str(round(max(kacc),2)))\n",
    "f2.close()\n"
   ],
   "metadata": {
    "collapsed": false,
    "pycharm": {
     "name": "#%%\n",
     "is_executing": false
    }
   }
  },
  {
   "cell_type": "code",
   "execution_count": null,
   "outputs": [],
   "source": [
    "from sklearn.preprocessing import *\n",
    "kaccnorm = []\n",
    "for k in range(1, 51):\n",
    "    kn = KNeighborsClassifier(n_neighbors=k)\n",
    "    kn.fit(scale(np.array(X.values)), np.array(y.values))\n",
    "    acc = cross_val_score(estimator=kn, X=scale(np.array(X)), y=np.array(y.values), cv=kf, scoring='accuracy') \n",
    "    kaccnorm.append(acc.mean())\n",
    "\n"
   ],
   "metadata": {
    "collapsed": false,
    "pycharm": {
     "name": "#%%\n"
    }
   }
  },
  {
   "cell_type": "code",
   "execution_count": null,
   "outputs": [],
   "source": [
    "f3 = open('3.txt', 'w')\n",
    "f3.write(str(kaccnorm.index(max(kaccnorm))+1))\n",
    "f3.close()\n",
    "f3 = open('4.txt', 'w')\n",
    "f3.write(str(round(max(kaccnorm),2)))\n",
    "f3.close()\n"
   ],
   "metadata": {
    "collapsed": false,
    "pycharm": {
     "name": "#%%\n"
    }
   }
  }
 ],
 "metadata": {
  "kernelspec": {
   "display_name": "Python 3",
   "language": "python",
   "name": "python3"
  },
  "language_info": {
   "codemirror_mode": {
    "name": "ipython",
    "version": 3
   },
   "file_extension": ".py",
   "mimetype": "text/x-python",
   "name": "python",
   "nbconvert_exporter": "python",
   "pygments_lexer": "ipython3",
   "version": "3.7.3"
  },
  "pycharm": {
   "stem_cell": {
    "cell_type": "raw",
    "source": [],
    "metadata": {
     "collapsed": false
    }
   }
  }
 },
 "nbformat": 4,
 "nbformat_minor": 1
}