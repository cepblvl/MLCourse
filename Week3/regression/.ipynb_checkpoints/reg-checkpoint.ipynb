{
 "cells": [
  {
   "cell_type": "code",
   "execution_count": 14,
   "metadata": {
    "pycharm": {
     "is_executing": false
    }
   },
   "outputs": [],
   "source": [
    "import numpy as np\n",
    "import pandas as pd\n",
    "from sklearn.metrics import roc_auc_score\n",
    "data = pd.read_csv('data-logistic.csv', header=None)\n",
    "X = data.iloc[:,1:] \n",
    "y = data.iloc[:,0] \n",
    "X=np.array(X.values)\n",
    "y=np.array(y.values)"
   ]
  },
  {
   "cell_type": "code",
   "execution_count": 15,
   "metadata": {
    "pycharm": {
     "is_executing": false,
     "name": "#%%\n"
    }
   },
   "outputs": [],
   "source": [
    "k=0.1\n",
    "w=[0,0]\n",
    "er=1e-5\n",
    "N=10000\n",
    "l=len(y)"
   ]
  },
  {
   "cell_type": "code",
   "execution_count": 16,
   "metadata": {
    "pycharm": {
     "is_executing": false,
     "name": "#%%\n"
    }
   },
   "outputs": [],
   "source": [
    "def der(y,x,w,l,ii):\n",
    "    sum=0\n",
    "    for i in range(l):\n",
    "        sum+=y[i]*x[i][ii]*(1-(1/(1+np.exp(-y[i]*(w[0]*x[i][0]+w[1]*x[i][1])))))\n",
    "    return sum"
   ]
  },
  {
   "cell_type": "code",
   "execution_count": 17,
   "metadata": {
    "pycharm": {
     "is_executing": false,
     "name": "#%%\n"
    }
   },
   "outputs": [],
   "source": [
    "def grad(w,k,l,y,x,C):\n",
    "    w[0]=w[0]+k/l*der(y,x,w,l,0)-k*C*w[0]\n",
    "    w[1]=w[1]+k/l*der(y,x,w,l,1)-k*C*w[1]\n",
    "    return w"
   ]
  },
  {
   "cell_type": "code",
   "execution_count": 18,
   "metadata": {
    "pycharm": {
     "is_executing": false,
     "name": "#%%\n"
    }
   },
   "outputs": [],
   "source": [
    "# without L2\n",
    "n=0\n",
    "wold =[1000,1000]\n",
    "while((((wold[0]-w[0])**2+(wold[1]-w[1])**2)**(1/2)>er) and n<=N):\n",
    "    wold=w\n",
    "    w=grad(w,k,l,y,X,0)\n",
    "    n+=1"
   ]
  },
  {
   "cell_type": "code",
   "execution_count": 19,
   "metadata": {
    "pycharm": {
     "name": "#%%\n"
    }
   },
   "outputs": [],
   "source": [
    "def a(x,w):\n",
    "    y_scores=[]\n",
    "    for i in range(l):\n",
    "        y_scores.append(1/(1+np.exp(-w[0]*x[i][0]-w[1]*x[i][1])))\n",
    "    return y_scores"
   ]
  },
  {
   "cell_type": "code",
   "execution_count": 20,
   "metadata": {
    "pycharm": {
     "name": "#%%\n"
    }
   },
   "outputs": [
    {
     "data": {
      "text/plain": [
       "0.9372380952380952"
      ]
     },
     "execution_count": 20,
     "metadata": {},
     "output_type": "execute_result"
    }
   ],
   "source": [
    "roc_auc_score(y, a(X,w))"
   ]
  },
  {
   "cell_type": "code",
   "execution_count": 23,
   "metadata": {
    "pycharm": {
     "name": "#%%\n"
    }
   },
   "outputs": [],
   "source": [
    "#with L2\n",
    "w=[0,0]\n",
    "n=0\n",
    "wold =[1000,1000]\n",
    "while((((wold[0]-w[0])**2+(wold[1]-w[1])**2)**(1/2)<er) and n<=N):\n",
    "    wold=w\n",
    "    w=grad(w,k,l,y,X,10)\n",
    "    n+=1"
   ]
  },
  {
   "cell_type": "code",
   "execution_count": 24,
   "metadata": {
    "pycharm": {
     "name": "#%%\n"
    }
   },
   "outputs": [
    {
     "data": {
      "text/plain": [
       "0.5"
      ]
     },
     "execution_count": 24,
     "metadata": {},
     "output_type": "execute_result"
    }
   ],
   "source": [
    "roc_auc_score(y, a(X,w))"
   ]
  },
  {
   "cell_type": "code",
   "execution_count": null,
   "metadata": {},
   "outputs": [],
   "source": []
  }
 ],
 "metadata": {
  "kernelspec": {
   "display_name": "Python 3",
   "language": "python",
   "name": "python3"
  },
  "language_info": {
   "codemirror_mode": {
    "name": "ipython",
    "version": 3
   },
   "file_extension": ".py",
   "mimetype": "text/x-python",
   "name": "python",
   "nbconvert_exporter": "python",
   "pygments_lexer": "ipython3",
   "version": "3.7.3"
  },
  "pycharm": {
   "stem_cell": {
    "cell_type": "raw",
    "metadata": {
     "collapsed": false
    },
    "source": []
   }
  }
 },
 "nbformat": 4,
 "nbformat_minor": 1
}
