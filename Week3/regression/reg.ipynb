{
 "cells": [
  {
   "cell_type": "code",
   "execution_count": 112,
   "metadata": {
    "pycharm": {
     "is_executing": false
    }
   },
   "outputs": [],
   "source": [
    "import numpy as np\n",
    "import pandas as pd\n",
    "from sklearn.metrics import roc_auc_score\n",
    "data = pd.read_csv('data-logistic.csv', header=None)\n",
    "X = data.iloc[:,1:] \n",
    "y = data.iloc[:,0] \n",
    "X=np.array(X.values)\n",
    "y=np.array(y.values)"
   ]
  },
  {
   "cell_type": "code",
   "execution_count": 113,
   "metadata": {
    "pycharm": {
     "is_executing": false,
     "name": "#%%\n"
    }
   },
   "outputs": [],
   "source": [
    "k=0.1\n",
    "w=[0,0]\n",
    "er=1e-5\n",
    "N=10000\n",
    "l=len(y)"
   ]
  },
  {
   "cell_type": "code",
   "execution_count": 114,
   "metadata": {
    "pycharm": {
     "is_executing": false,
     "name": "#%%\n"
    }
   },
   "outputs": [],
   "source": [
    "def der(y,x,w,l,ii):\n",
    "    sum=0\n",
    "    for i in range(l):\n",
    "        sum+=y[i]*x[i][ii]*(1-(1/(1+np.exp(-y[i]*(w[0]*x[i][0]+w[1]*x[i][1])))))\n",
    "    return sum"
   ]
  },
  {
   "cell_type": "code",
   "execution_count": 61,
   "metadata": {
    "pycharm": {
     "is_executing": false,
     "name": "#%%\n"
    }
   },
   "outputs": [],
   "source": [
    "def grad(w,k,l,y,x,C):\n",
    "    wo=[w[0],w[1]]\n",
    "    w[0]=w[0]+k/l*der(y,x,wo,l,0)-k*C*w[0]\n",
    "    w[1]=w[1]+k/l*der(y,x,wo,l,1)-k*C*w[1]\n",
    "    return w"
   ]
  },
  {
   "cell_type": "code",
   "execution_count": 115,
   "metadata": {
    "pycharm": {
     "is_executing": false,
     "name": "#%%\n"
    }
   },
   "outputs": [],
   "source": [
    "# without L2\n",
    "n=0\n",
    "wold =[1000,1000]\n",
    "while((((wold[0]-w[0])**2+(wold[1]-w[1])**2)**(1/2)>er) and n<=N):\n",
    "    wold=[w[0],w[1]]\n",
    "    w=grad(w,k,l,y,X,0)\n",
    "    n+=1"
   ]
  },
  {
   "cell_type": "code",
   "execution_count": 116,
   "metadata": {
    "pycharm": {
     "name": "#%%\n",
     "is_executing": false
    }
   },
   "outputs": [],
   "source": [
    "def a(x,w):\n",
    "    y_scores=[]\n",
    "    for i in range(l):\n",
    "        y_scores.append(1/(1+np.exp(-w[0]*x[i][0]-w[1]*x[i][1])))\n",
    "    return y_scores"
   ]
  },
  {
   "cell_type": "code",
   "execution_count": 117,
   "metadata": {
    "pycharm": {
     "name": "#%%\n",
     "is_executing": false
    }
   },
   "outputs": [],
   "source": [
    "ans=''\n",
    "ans=ans+str(round(roc_auc_score(y, a(X,w)),3))+' '"
   ]
  },
  {
   "cell_type": "code",
   "execution_count": 118,
   "metadata": {
    "pycharm": {
     "name": "#%%\n",
     "is_executing": false
    }
   },
   "outputs": [],
   "source": [
    "#with L2\n",
    "w=[0,0]\n",
    "n=0\n",
    "wold =[1000,1000]\n",
    "while((((wold[0]-w[0])**2+(wold[1]-w[1])**2)**(1/2)>er) and n<=N):\n",
    "    wold=[w[0],w[1]]\n",
    "    w=grad(w,k,l,y,X,10)\n",
    "    n+=1"
   ]
  },
  {
   "cell_type": "code",
   "execution_count": 119,
   "metadata": {
    "pycharm": {
     "name": "#%%\n",
     "is_executing": false
    }
   },
   "outputs": [],
   "source": [
    "ans=ans+str(round(roc_auc_score(y, a(X,w)),3))"
   ]
  },
  {
   "cell_type": "code",
   "execution_count": 120,
   "metadata": {
    "pycharm": {
     "is_executing": false
    }
   },
   "outputs": [],
   "source": [
    "f1 = open('1.txt', 'w')\n",
    "f1.write(ans)\n",
    "f1.close()\n"
   ]
  }
 ],
 "metadata": {
  "kernelspec": {
   "display_name": "Python 3",
   "language": "python",
   "name": "python3"
  },
  "language_info": {
   "codemirror_mode": {
    "name": "ipython",
    "version": 3
   },
   "file_extension": ".py",
   "mimetype": "text/x-python",
   "name": "python",
   "nbconvert_exporter": "python",
   "pygments_lexer": "ipython3",
   "version": "3.7.3"
  },
  "pycharm": {
   "stem_cell": {
    "cell_type": "raw",
    "source": [],
    "metadata": {
     "collapsed": false
    }
   }
  }
 },
 "nbformat": 4,
 "nbformat_minor": 1
}