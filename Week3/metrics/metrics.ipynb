{
 "cells": [
  {
   "cell_type": "code",
   "execution_count": 5,
   "metadata": {
    "collapsed": true,
    "pycharm": {
     "is_executing": false
    }
   },
   "outputs": [],
   "source": [
    "import numpy as np\n",
    "import pandas as pd\n",
    "\n",
    "\n",
    "data = pd.read_csv('classification.csv')\n",
    "pred = data.iloc[:,1:] \n",
    "true = data.iloc[:,0] \n",
    "true=np.array(true.values)\n",
    "pred=np.array(pred.values)"
   ]
  },
  {
   "cell_type": "code",
   "execution_count": 6,
   "outputs": [],
   "source": [
    "TP, FP, TN, FN=0,0,0,0\n",
    "for i in range(len(true)):\n",
    "    if (true[i]==pred[i]) and (true[i]==1):\n",
    "        TP+=1\n",
    "    elif(true[i]==pred[i]) and (true[i]==0):\n",
    "        TN+=1\n",
    "    elif(true[i]!=pred[i]) and (true[i]==1):\n",
    "        FN+=1\n",
    "    elif(true[i]!=pred[i]) and (true[i]==0):\n",
    "        FP+=1\n",
    "f1 = open('1.txt', 'w')\n",
    "f1.write(str(TP)+' '+str(FP)+' '+str(FN)+' '+str(TN))\n",
    "f1.close()"
   ],
   "metadata": {
    "collapsed": false,
    "pycharm": {
     "name": "#%%\n",
     "is_executing": false
    }
   }
  },
  {
   "cell_type": "code",
   "execution_count": 9,
   "outputs": [],
   "source": [
    "import sklearn.metrics\n",
    "Accuracy = round(sklearn.metrics.accuracy_score(y_true=true,y_pred=pred),2)\n",
    "Precision= round(sklearn.metrics.precision_score(y_true=true,y_pred=pred),2)\n",
    "Recall = round(sklearn.metrics.recall_score(y_true=true,y_pred=pred),2)\n",
    "F = round(sklearn.metrics.f1_score(y_true=true,y_pred=pred),2)\n",
    "f2 = open('2.txt', 'w')\n",
    "f2.write(str(Accuracy)+' '+str(Precision)+' '+str(Recall)+' '+str(F))\n",
    "f2.close()"
   ],
   "metadata": {
    "collapsed": false,
    "pycharm": {
     "name": "#%%\n",
     "is_executing": false
    }
   }
  },
  {
   "cell_type": "code",
   "execution_count": null,
   "outputs": [],
   "source": [
    "\n"
   ],
   "metadata": {
    "collapsed": false,
    "pycharm": {
     "name": "#%%\n"
    }
   }
  }
 ],
 "metadata": {
  "kernelspec": {
   "display_name": "Python 3",
   "language": "python",
   "name": "python3"
  },
  "language_info": {
   "codemirror_mode": {
    "name": "ipython",
    "version": 2
   },
   "file_extension": ".py",
   "mimetype": "text/x-python",
   "name": "python",
   "nbconvert_exporter": "python",
   "pygments_lexer": "ipython2",
   "version": "2.7.6"
  },
  "pycharm": {
   "stem_cell": {
    "cell_type": "raw",
    "source": [],
    "metadata": {
     "collapsed": false
    }
   }
  }
 },
 "nbformat": 4,
 "nbformat_minor": 0
}