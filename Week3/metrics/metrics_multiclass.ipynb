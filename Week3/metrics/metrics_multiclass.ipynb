{
 "cells": [
  {
   "cell_type": "code",
   "execution_count": null,
   "metadata": {
    "collapsed": true,
    "pycharm": {
     "is_executing": false
    }
   },
   "outputs": [],
   "source": [
    "import numpy as np\n",
    "import pandas as pd\n",
    "data = pd.read_csv('scores.csv')\n",
    "pred = data.iloc[:,1:] \n",
    "true = data.iloc[:,0] \n",
    "true=np.array(true.values)\n",
    "pred=np.array(pred.values)"
   ]
  },
  {
   "cell_type": "code",
   "execution_count": 16,
   "outputs": [
    {
     "name": "stdout",
     "text": [
      "<class 'pandas.core.frame.DataFrame'>\nRangeIndex: 200 entries, 0 to 199\nData columns (total 5 columns):\ntrue            200 non-null int64\nscore_logreg    200 non-null float64\nscore_svm       200 non-null float64\nscore_knn       200 non-null float64\nscore_tree      200 non-null float64\ndtypes: float64(4), int64(1)\nmemory usage: 7.9 KB\n"
     ],
     "output_type": "stream"
    }
   ],
   "source": [
    "import sklearn.metrics\n",
    "data.info()\n",
    "f2 = open('3.txt', 'w')\n",
    "score_logreg=sklearn.metrics.roc_auc_score(y_true=true,y_score=pred[:,0:1])\n",
    "score_svm=sklearn.metrics.roc_auc_score(y_true=true,y_score=pred[:,1:2])\n",
    "score_knn=sklearn.metrics.roc_auc_score(y_true=true,y_score=pred[:,2:3])\n",
    "score_tree=sklearn.metrics.roc_auc_score(y_true=true,y_score=pred[:,3:])\n",
    "scores=score_logreg,score_svm,score_knn,score_tree\n",
    "max_score=scores.index(max(scores))\n",
    "if(max_score==0):\n",
    "    f2.write('score_logreg')\n",
    "elif(max_score==1):\n",
    "    f2.write('score_svm')\n",
    "elif(max_score==2):\n",
    "    f2.write('score_knn')\n",
    "elif(max_score==3):\n",
    "    f2.write('score_tree')\n",
    "f2.close()"
   ],
   "metadata": {
    "collapsed": false,
    "pycharm": {
     "name": "#%%\n",
     "is_executing": false
    }
   }
  },
  {
   "cell_type": "code",
   "execution_count": 20,
   "outputs": [],
   "source": [
    "from sklearn.metrics import precision_recall_curve\n",
    "def max_precision(i):\n",
    "    precision, recall, thresholds=precision_recall_curve(y_true=true,probas_pred=pred[:,i:i+1])\n",
    "    max_prec=0\n",
    "    for j in recall:\n",
    "        if(j>=0.7):\n",
    "            max_prec=max(max_prec,precision[recall.tolist().index(j)])\n",
    "    return max_prec\n",
    "    "
   ],
   "metadata": {
    "collapsed": false,
    "pycharm": {
     "name": "#%%\n",
     "is_executing": false
    }
   }
  },
  {
   "cell_type": "code",
   "execution_count": 23,
   "outputs": [],
   "source": [
    "f3 = open('4.txt', 'w')\n",
    "max_class_prec=max_precision(0),max_precision(1),max_precision(2),max_precision(3)\n",
    "max_class=max_class_prec.index(max(max_class_prec))\n",
    "if(max_class==0):\n",
    "    f3.write('score_logreg')\n",
    "elif(max_class==1):\n",
    "    f3.write('score_svm')\n",
    "elif(max_class==2):\n",
    "    f3.write('score_knn')\n",
    "elif(max_class==3):\n",
    "    f3.write('score_tree')\n",
    "f3.close()\n",
    "\n",
    "\n"
   ],
   "metadata": {
    "collapsed": false,
    "pycharm": {
     "name": "#%%\n",
     "is_executing": false
    }
   }
  }
 ],
 "metadata": {
  "kernelspec": {
   "display_name": "Python 3",
   "language": "python",
   "name": "python3"
  },
  "language_info": {
   "codemirror_mode": {
    "name": "ipython",
    "version": 2
   },
   "file_extension": ".py",
   "mimetype": "text/x-python",
   "name": "python",
   "nbconvert_exporter": "python",
   "pygments_lexer": "ipython2",
   "version": "2.7.6"
  },
  "pycharm": {
   "stem_cell": {
    "cell_type": "raw",
    "source": [],
    "metadata": {
     "collapsed": false
    }
   }
  }
 },
 "nbformat": 4,
 "nbformat_minor": 0
}