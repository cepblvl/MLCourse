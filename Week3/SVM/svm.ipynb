{
 "cells": [
  {
   "cell_type": "code",
   "execution_count": 9,
   "outputs": [],
   "source": [
    "import pandas as pd\n",
    "data = pd.read_csv('svm-data.csv', header=None)\n",
    "X = data.iloc[:,1:] \n",
    "y = data.iloc[:,0] "
   ],
   "metadata": {
    "collapsed": false,
    "pycharm": {
     "name": "#%%\n",
     "is_executing": false
    }
   }
  },
  {
   "cell_type": "code",
   "execution_count": null,
   "metadata": {
    "collapsed": true
   },
   "outputs": [],
   "source": [
    "from sklearn.svm import SVC\n",
    "import numpy as np\n",
    "svm=SVC(C=100000,kernel='linear', random_state=241)\n",
    "svm.fit(np.array(X.values), np.array(y.values))"
   ]
  },
  {
   "cell_type": "code",
   "execution_count": 25,
   "outputs": [],
   "source": [
    "sup=svm.support_\n",
    "f1 = open('1.txt', 'w')\n",
    "\n",
    "k=0\n",
    "for i in sup:\n",
    "    if k<len(sup)-1:\n",
    "        f1.write(str(i+1)+' ')\n",
    "    else:\n",
    "        f1.write(str(i+1))\n",
    "    k+=1\n",
    "f1.close()"
   ],
   "metadata": {
    "collapsed": false,
    "pycharm": {
     "name": "#%%\n",
     "is_executing": false
    }
   }
  }
 ],
 "metadata": {
  "kernelspec": {
   "display_name": "Python 3",
   "language": "python",
   "name": "python3"
  },
  "language_info": {
   "codemirror_mode": {
    "name": "ipython",
    "version": 2
   },
   "file_extension": ".py",
   "mimetype": "text/x-python",
   "name": "python",
   "nbconvert_exporter": "python",
   "pygments_lexer": "ipython2",
   "version": "2.7.6"
  },
  "pycharm": {
   "stem_cell": {
    "cell_type": "raw",
    "source": [],
    "metadata": {
     "collapsed": false
    }
   }
  }
 },
 "nbformat": 4,
 "nbformat_minor": 0
}