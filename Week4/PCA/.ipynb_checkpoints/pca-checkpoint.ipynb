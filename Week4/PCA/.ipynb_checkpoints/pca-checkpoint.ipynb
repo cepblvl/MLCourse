{
 "cells": [
  {
   "cell_type": "code",
   "execution_count": 60,
   "metadata": {
    "pycharm": {
     "name": "#%%\n"
    }
   },
   "outputs": [
    {
     "data": {
      "text/plain": [
       "array([[ 76.440002, 117.510002,  85.029999, ...,  47.98    ,  76.419998,\n",
       "         87.75    ],\n",
       "       [ 76.07    , 119.      ,  85.110001, ...,  47.27    ,  75.75    ,\n",
       "         87.360001],\n",
       "       [ 75.989998, 118.510002,  84.5     , ...,  46.950001,  74.650002,\n",
       "         87.139999],\n",
       "       ...,\n",
       "       [ 81.5     , 153.669998,  79.970001, ...,  49.27    ,  83.290001,\n",
       "         84.760002],\n",
       "       [ 81.059998, 154.509995,  78.449997, ...,  48.950001,  82.620003,\n",
       "         84.080002],\n",
       "       [ 81.860001, 155.729996,  81.330002, ...,  49.540001,  82.529999,\n",
       "         86.07    ]])"
      ]
     },
     "execution_count": 60,
     "metadata": {},
     "output_type": "execute_result"
    }
   ],
   "source": [
    "import numpy as np\n",
    "import pandas as pd\n",
    "data_company = pd.read_csv('close_prices.csv')\n",
    "data_company = data_company.iloc[:,1:]\n",
    "data=np.array(data_company)\n",
    "djia = pd.read_csv('djia_index.csv')\n",
    "djia = djia.iloc[:,1:]\n",
    "djia=np.array(djia)\n",
    "data"
   ]
  },
  {
   "cell_type": "code",
   "execution_count": 61,
   "metadata": {
    "pycharm": {
     "name": "#%%\n"
    }
   },
   "outputs": [],
   "source": [
    "from sklearn.decomposition import PCA\n",
    "pca = PCA(n_components=10)\n",
    "pca.fit(data)\n",
    "comp=pca.explained_variance_ratio_\n",
    "sum=0\n",
    "count=0\n",
    "for i in comp:\n",
    "    if sum>0.9:\n",
    "        break\n",
    "    sum+=i\n",
    "    count+=1\n",
    "\n",
    "f1 = open('1.txt', 'w')\n",
    "f1.write(str(count))\n",
    "f1.close()"
   ]
  },
  {
   "cell_type": "code",
   "execution_count": 62,
   "metadata": {},
   "outputs": [],
   "source": [
    "components=pca.transform(data)\n",
    "first_component=np.array([[x[0] for x in components]]).T\n",
    "coef = np.corrcoef(first_component.T, djia.T)\n",
    "f2 = open('2.txt', 'w')\n",
    "f2.write(str(round(coef[0][1],2)))\n",
    "f2.close()"
   ]
  },
  {
   "cell_type": "code",
   "execution_count": 64,
   "metadata": {},
   "outputs": [],
   "source": [
    "index=np.where(pca.components_[0]==max(pca.components_[0]))\n",
    "f3 = open('3.txt', 'w')\n",
    "f3.write(data_company.columns[index[0][0]])\n",
    "f3.close()"
   ]
  },
  {
   "cell_type": "code",
   "execution_count": null,
   "metadata": {},
   "outputs": [],
   "source": []
  }
 ],
 "metadata": {
  "kernelspec": {
   "display_name": "Python 3",
   "language": "python",
   "name": "python3"
  },
  "language_info": {
   "codemirror_mode": {
    "name": "ipython",
    "version": 3
   },
   "file_extension": ".py",
   "mimetype": "text/x-python",
   "name": "python",
   "nbconvert_exporter": "python",
   "pygments_lexer": "ipython3",
   "version": "3.7.3"
  },
  "pycharm": {
   "stem_cell": {
    "cell_type": "raw",
    "metadata": {
     "collapsed": false
    },
    "source": []
   }
  }
 },
 "nbformat": 4,
 "nbformat_minor": 1
}
